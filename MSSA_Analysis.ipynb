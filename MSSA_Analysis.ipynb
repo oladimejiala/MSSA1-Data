{
  "nbformat": 4,
  "nbformat_minor": 0,
  "metadata": {
    "colab": {
      "name": "MSSA Analysis.ipynb",
      "private_outputs": true,
      "provenance": [],
      "collapsed_sections": [],
      "mount_file_id": "1DqDqa3AEkQL_YDRItlb9Q9qTvzEx96d9",
      "authorship_tag": "ABX9TyPIJ+1lrkGk2qfp7sVcWMIN",
      "include_colab_link": true
    },
    "kernelspec": {
      "name": "python3",
      "display_name": "Python 3"
    },
    "language_info": {
      "name": "python"
    }
  },
  "cells": [
    {
      "cell_type": "markdown",
      "metadata": {
        "id": "view-in-github",
        "colab_type": "text"
      },
      "source": [
        "<a href=\"https://colab.research.google.com/github/oladimejiala/MSSA1-Data/blob/main/MSSA_Analysis.ipynb\" target=\"_parent\"><img src=\"https://colab.research.google.com/assets/colab-badge.svg\" alt=\"Open In Colab\"/></a>"
      ]
    },
    {
      "cell_type": "markdown",
      "source": [
        "# ***Loading the python Libraries***"
      ],
      "metadata": {
        "id": "pCufnXWTmUgC"
      }
    },
    {
      "cell_type": "code",
      "source": [
        "import pandas_datareader as web\n",
        "import numpy as np\n",
        "import matplotlib.pyplot as plt\n",
        "%matplotlib inline\n",
        "import pandas as pd\n",
        "from sklearn.linear_model import LinearRegression, LogisticRegression\n",
        "from sklearn.preprocessing import MinMaxScaler, Binarizer, Normalizer, LabelBinarizer  \n",
        "import seaborn as sns\n",
        "import requests"
      ],
      "metadata": {
        "id": "b-wJZQ7GzOjK"
      },
      "execution_count": null,
      "outputs": []
    },
    {
      "cell_type": "markdown",
      "source": [
        "# **Data Bembereke Participant's Data from My Google Drive**"
      ],
      "metadata": {
        "id": "YTsZo8tAmhkI"
      }
    },
    {
      "cell_type": "code",
      "execution_count": null,
      "metadata": {
        "id": "FZ0hAddSsylq"
      },
      "outputs": [],
      "source": [
        "# # plotting stock price data\n",
        "# def test_run():\n",
        "#     df = pd.read_csv('https://api.ona.io/api/v1/export/2216667.csv?temp_token=128d825e31f02c66392258009f2647dc06552ee9')\n",
        "#     # df = pd.read_csv(\"data/AAPL.csv\")\n",
        "#     print (df[''])\n",
        "#     df['Adj Close'].plot()\n",
        "#     plt.show() #must be called to show plots\n",
        "#     sns.pairplot()\n",
        "\n",
        "# if __name__== \"__main__\":\n",
        "#     test_run()"
      ]
    },
    {
      "cell_type": "markdown",
      "source": [
        "#**Data visualization : Pairwise plotting of biometric parameters**"
      ],
      "metadata": {
        "id": "IObSILse9gS0"
      }
    },
    {
      "cell_type": "code",
      "source": [
        "# bem = pd.read_csv('/content/Bembereke Cleaned Data 14th April.csv')\n",
        "# print(bem)\n",
        "bem = pd.read_csv('/content/newMSSA.csv')"
      ],
      "metadata": {
        "id": "PgYjhoelO1qZ"
      },
      "execution_count": null,
      "outputs": []
    },
    {
      "cell_type": "code",
      "source": [
        "bem.head()"
      ],
      "metadata": {
        "id": "uoiXCbOmgoZY"
      },
      "execution_count": null,
      "outputs": []
    },
    {
      "cell_type": "markdown",
      "source": [
        "# **Pairplot of Biometric features**: height, muac, weight, waist-circumference."
      ],
      "metadata": {
        "id": "8m5M1JbE3UnP"
      }
    },
    {
      "cell_type": "code",
      "source": [
        "biometrics =  bem[['height(cm)','waist_circum2(cm)', 'weight(kg)', 'MUAC(cm)']]\n",
        "sns.pairplot(biometrics)"
      ],
      "metadata": {
        "id": "Wu94f7_L3TZ0"
      },
      "execution_count": null,
      "outputs": []
    },
    {
      "cell_type": "code",
      "source": [
        "#this is a combined biometrics to be used against anemia in combination with STH results\n",
        "x_biometrics = bem.iloc[:, [7,8,9,10,11,34]].values  #'height(cm)','MUAC(cm)','weight(kg)', 'waist_circ', pcv2\n",
        "# from sklearn.preprocessing import MinMaxScaler\n",
        "mms = MinMaxScaler()\n",
        "x_biometrics = mms.fit_transform(x_biometrics)\n",
        "x_b = x_biometrics[:,:5]\n",
        "# bio = x_biometrics[:,:5]"
      ],
      "metadata": {
        "id": "WmweA-c1TwUm"
      },
      "execution_count": null,
      "outputs": []
    },
    {
      "cell_type": "markdown",
      "source": [
        "Multiple Linear Regression Model between Anthropometrics and Packed Cell Volume"
      ],
      "metadata": {
        "id": "S0NvRL8-bByz"
      }
    },
    {
      "cell_type": "code",
      "source": [
        "from sklearn.model_selection import train_test_split\n",
        "from sklearn.linear_model import LinearRegression \n",
        "lr = LinearRegression()\n",
        "pcv = x_biometrics[:,5:]#the last column representing the pcv\n",
        "x_bio_train, x_bio_test, y_pcv_train, y_pcv_test = train_test_split(bio,pcv, test_size=0.2, random_state=42)\n",
        "\n",
        "model_bio_pcv = lr.fit(x_bio_train, y_pcv_train)\n",
        "\n",
        "y_pcv_pred = model_bio_pcv.predict(x_bio_test)\n",
        "pcv_bio_pred_score = model_bio_pcv.score(x_bio_test, y_pcv_test)\n",
        "\n",
        "lr.coef_ #Regression coeficient\n",
        "\n",
        "# plt.scatter(x_bio_train, y_pcv_train)\n",
        "plt.hist(y_pcv_pred)\n",
        "# Note that ypu cannot plot the regression due to inconsistency in the number of samples and size.\n"
      ],
      "metadata": {
        "id": "vDhxyz8mcR0I"
      },
      "execution_count": null,
      "outputs": []
    },
    {
      "cell_type": "code",
      "source": [
        "psac = bem.Age_Group\n",
        "# age_sac = bem['Age_SAC']\n",
        "# sns.pairplot(age_psac,age_sac)\n",
        "# psac_new = age_psac.copy()                             # Create copy of DataFrame\n",
        "# psac_new = psac_new.fillna(psac_new.mean())            # Mean imputation\n",
        "# print(psac_new)                                        # Print updated DataFrame"
      ],
      "metadata": {
        "id": "bXiJYJXmfciA"
      },
      "execution_count": null,
      "outputs": []
    },
    {
      "cell_type": "markdown",
      "source": [
        "# ***Correlations between features***"
      ],
      "metadata": {
        "id": "zDConKtPoMk_"
      }
    },
    {
      "cell_type": "markdown",
      "source": [
        "There is strong correlation between participants height and waist circumference(0.7282), weight and waist circumference ( 0.7321), "
      ],
      "metadata": {
        "id": "_5yO2UjroZuy"
      }
    },
    {
      "cell_type": "code",
      "source": [
        "biometrics.corr()"
      ],
      "metadata": {
        "id": "rVYxVTdkkRs9"
      },
      "execution_count": null,
      "outputs": []
    },
    {
      "cell_type": "markdown",
      "source": [
        "# Body Mass Index of Participants \n",
        "---"
      ],
      "metadata": {
        "id": "5HEOGO19pFDS"
      }
    },
    {
      "cell_type": "code",
      "source": [
        "height_metres = bem['height(cm)']/100\n",
        "bmi = biometrics['weight(kg)']/(height_metres)**2 # this is the body mass index of both preschool and schoo age children\n",
        "MUAC = biometrics['MUAC(cm)'].values\n",
        "sns.regplot(bmi, MUAC)\n",
        "plt.xlabel('Body Mass Index')\n",
        "plt.title('Body Mass Index vs MUAC')\n",
        "plt.ylabel('Mid Upper Arm Circumference')\n",
        "print(\" This is the mean Body Mass index:\", np.mean(bmi))"
      ],
      "metadata": {
        "id": "Msj2lPEink56"
      },
      "execution_count": null,
      "outputs": []
    },
    {
      "cell_type": "markdown",
      "source": [
        "# **Age, Sex, BMI, MUAC**"
      ],
      "metadata": {
        "id": "6NJ293B8xinY"
      }
    },
    {
      "cell_type": "code",
      "source": [
        "MUAC_df = biometrics['MUAC(cm)']\n",
        "waist_circ = biometrics['waist_circum2(cm)']\n",
        "waist_circ.corr(MUAC_df)\n",
        "\n",
        "# plt.scatter(waist_circ, MUAC_df)\n",
        "\n",
        "# waist_muac = [[waist_circ, MUAC_df]]\n",
        "\n",
        "x_waist = waist_circ.values.reshape(-1, 1)\n",
        "y_MUAC_df = MUAC_df.values\n",
        "\n",
        "from sklearn.model_selection import train_test_split\n",
        "from sklearn.metrics import r2_score, mean_squared_error, accuracy_score\n",
        "x_train, x_test, y_train, y_test = train_test_split(x_waist, y_MUAC_df, test_size = 0.2, random_state = 0)\n",
        "\n",
        "lr = LinearRegression()\n",
        "model = lr.fit(x_train, y_train)\n",
        "y_pred = model.predict(x_test)\n",
        "sns.regplot(y_pred, y_test, marker='*', color= 'red')\n",
        "plt.title('Fig: Waist Circumference vs MUAC')\n",
        "plt.xlabel('Waist Circumference')\n",
        "plt.ylabel('MUAC')"
      ],
      "metadata": {
        "id": "Mpdw7Knd9BD1"
      },
      "execution_count": null,
      "outputs": []
    },
    {
      "cell_type": "code",
      "source": [
        "y_pred = lr.predict(x_test)\n",
        "y_pred\n",
        "# plt.plot(x_train, lr.predict(x_train), color = 'blue')\n",
        "# plt.scatter(x_test, y_test, color = 'red')\n",
        "plt.xlabel('Waist Circumference')\n",
        "plt.ylabel('Mid Upper Arm Circumference')\n",
        "plt.title('Waist Circumference and Mid Upper Arm Circumference Regression Model')\n",
        "print(\"Regression Score: %.2f \" % r2_score(y_test, y_pred))\n",
        "msq = mean_squared_error(y_test,y_pred)\n",
        "print(\"Mean Squared Error :\", msq)\n",
        "# print(\"R2 score : %.2f\" % r2_score(y_test,y_pred))\n",
        "\n",
        "sns.regplot(x_train, y_train, marker ='+')\n"
      ],
      "metadata": {
        "id": "EMn-i7k2HFcH"
      },
      "execution_count": null,
      "outputs": []
    },
    {
      "cell_type": "code",
      "source": [
        "# Model performance\n",
        "model = sns.regplot(y_test,y_pred, marker='+', color='red')\n",
        "plt.title(\"Prediction's scatter Plot Against the Target\")\n",
        "plt.xlabel('feature (y_test)')\n",
        "plt.ylabel('target (y_pred)')\n"
      ],
      "metadata": {
        "id": "EOBpuAEwpqls"
      },
      "execution_count": null,
      "outputs": []
    },
    {
      "cell_type": "markdown",
      "source": [
        "## ***Functional Model for Subsequent Anthropometric Prediction***"
      ],
      "metadata": {
        "id": "KOkVQ56rtoaw"
      }
    },
    {
      "cell_type": "code",
      "source": [
        "from datetime import datetime\n",
        "from datetime import timedelta\n",
        "\n",
        "from datetime import date\n",
        "\n",
        "Begin_date = date.today()\n",
        "End_date = Begin_date + timedelta(days = 100)\n",
        "next_begin_date = End_date\n",
        "next_end_date = next_begin_date + timedelta(days= 100)"
      ],
      "metadata": {
        "id": "Gob23t-sxJfW"
      },
      "execution_count": null,
      "outputs": []
    },
    {
      "cell_type": "code",
      "source": [
        "# a = new_x_waist\n",
        "# b = new_y_MUAC\n",
        "# next_prediction = today + 30\n",
        "\n",
        "def subs_prediction(a, b):\n",
        "    for i in range(len(y_test)):\n",
        "        if today == End_date:\n",
        "            new_pred = model.predict(new_x_waist)\n",
        "            print(\"Latest prediction as of today\", today)\n",
        "            print(\"New Accuracy Score is: %.2f\", r2_score(new_y_MUAC, new_pred)*100)\n",
        "        else:\n",
        "            return\n",
        "\n",
        "\n",
        "if __name__ == '___main__':\n",
        "    subs_prediction()"
      ],
      "metadata": {
        "id": "zVHwKOqwtnO4"
      },
      "execution_count": null,
      "outputs": []
    },
    {
      "cell_type": "code",
      "source": [
        "# numpy to be used later\n",
        "np.corrcoef # correlation coeficient\n",
        "np.correlate # correlate np arrays"
      ],
      "metadata": {
        "id": "lt3rGgn8uR2L"
      },
      "execution_count": null,
      "outputs": []
    },
    {
      "cell_type": "code",
      "source": [
        "#another statsmodels that can be used\n",
        "another_statmodel_lib = sns.regression.statsmodels"
      ],
      "metadata": {
        "id": "xb6Q29Xh697N"
      },
      "execution_count": null,
      "outputs": []
    },
    {
      "cell_type": "markdown",
      "source": [
        "#**Preprocessing WASH Features**"
      ],
      "metadata": {
        "id": "dCRJMnrc_ayO"
      }
    },
    {
      "cell_type": "code",
      "source": [
        "from sklearn.preprocessing import MinMaxScaler, StandardScaler, LabelEncoder, OneHotEncoder\n",
        "# WASH_features\n",
        "\n",
        "# np.corrcoef(bem_wash)\n",
        "# bem_wash = age_psac.copy()      # Create copy of DataFrame\n",
        "Age_grp = bem['Age_Group']\n",
        "# age = Age_grp.fillna(Age_grp.mean()) # Mean imputation\n",
        "# print(psac_new)\n",
        "\n",
        "sc = StandardScaler()\n",
        "le = LabelEncoder()\n",
        "# #fit label encoder to the toilet types \n",
        "# toil_type = bem.iloc[:,13].values\n",
        "# toilet_type = le.fit_transform(toil_type) # encoded toilet type \n",
        "\n",
        "#fit label encoder to the water in toilet variable \n",
        "# have_toilet = bem['toilettes?'].values #the values here are Boolean, yet to be preprocesed\n",
        "# have_toilet = le.fit_transform(have_toilet) #fitted with label encoder now transformed to binary values\n",
        "\n",
        "toilet_soap = bem['sanitary paper?'].values #the values here are binary: 1s and 0s\n",
        "toilet_water = bem['water in toilet?'].values # the values here are binary: 1s and 0s and it's an array"
      ],
      "metadata": {
        "id": "krEmCJzw_ZX9"
      },
      "execution_count": null,
      "outputs": []
    },
    {
      "cell_type": "markdown",
      "source": [
        "# **For Logistic Regression**: Wash and health"
      ],
      "metadata": {
        "id": "QvCTV3gGOpQo"
      }
    },
    {
      "cell_type": "code",
      "source": [
        "#Questions here is that does, sanitation and hygiene have influence or impact on the state of health in this communities despite the chemotherapy regime?\n",
        "from sklearn.preprocessing import OneHotEncoder\n",
        "ohe = OneHotEncoder()\n",
        "Toilet_type = bem.iloc[:,13] #this contains both tolet type\n",
        "toilet = bem.iloc[:,12].values\n",
        "Toilet_type = le.fit_transform(Toilet_type)\n",
        "sanitation = bem.iloc[:,[14,15]].values # this contains water and tissue paper in the toilet\n",
        "# le.fit_transform(Toilet)\n",
        "# # Plotting toilet presence, toilet type against water presence in toilet soap.\n",
        "# sns.regplot(Toilet, sanitation, color=\"yellow\")\n",
        "# plt.title('Toilet Type, Water Sanitation and hygiene Regression plot')\n",
        "# plt.xlabel('Having/Not having a Toilet/Toilet Type')\n",
        "# plt.ylabel('Have/Do not have water or Soap in the Toilet')\n",
        "# sns.scatterplot(Toilet,sanitation)\n",
        "# sns.boxplot(Toilet,sanitation, color='red')"
      ],
      "metadata": {
        "id": "rBk77FqDyjby"
      },
      "execution_count": null,
      "outputs": []
    },
    {
      "cell_type": "markdown",
      "source": [
        "# **BMI and STH**: LinReg"
      ],
      "metadata": {
        "id": "SOBiusTJBGG8"
      }
    },
    {
      "cell_type": "code",
      "source": [
        "from locale import normalize\n",
        "import statsmodels.formula.api as sm\n",
        "# correlation between having a toilet and body mass index\n",
        "new_bmi = np.array(bmi) # changed the body mass index into a numpy array\n",
        "sth = bem.iloc[:,[21,22,23]].values\n",
        "sth_x = sth[:,np.newaxis,2]\n",
        "sth_z = sth[:, np.newaxis,1]\n",
        "model = lr.fit(sth_x,new_bmi)\n",
        "md = sm.ols('new_bmi ~ sth_x', data=bem).fit()\n",
        "m = sm.ols('new_bmi ~ sth_z', data=bem).fit()\n",
        "print(md.summary())\n",
        "# print(m.summary())"
      ],
      "metadata": {
        "id": "-t4J70aCBBJn"
      },
      "execution_count": null,
      "outputs": []
    },
    {
      "cell_type": "markdown",
      "source": [
        "# **Body Mass Index, MUAC and Age**"
      ],
      "metadata": {
        "id": "KrLPx20iDwr3"
      }
    },
    {
      "cell_type": "code",
      "source": [
        "df_psac = pd.DataFrame(bem['psac'])\n",
        "df_sac = pd.DataFrame(bem['sac'])\n",
        "df_sac.describe()"
      ],
      "metadata": {
        "id": "SOBb-hqhEEWE"
      },
      "execution_count": null,
      "outputs": []
    },
    {
      "cell_type": "markdown",
      "source": [
        "# **Soil Transmitted Helminthiasis and Anemia status**"
      ],
      "metadata": {
        "id": "iZNhjlB8SRjO"
      }
    },
    {
      "cell_type": "markdown",
      "source": [
        "**Preprocessing and Linear Regression  Modelling**"
      ],
      "metadata": {
        "id": "974_sFRGSpQ0"
      }
    },
    {
      "cell_type": "code",
      "source": [
        "#Urinalysis\n",
        "urine_parameters = bem.iloc[:,26-29].values.reshape(-1,1)\n",
        "haem = bem.iloc[:, 18].values\n",
        "haem = le.fit_transform(haem) #transformed into integer from prtly string and int\n",
        "urine_parameters = mms.fit_transform(urine_parameters)\n",
        "# plt.scatter(urine_parameters, haem)\n",
        "# sns.regplot(urine_parameters, haem)"
      ],
      "metadata": {
        "id": "AWdDzjSND8S6"
      },
      "execution_count": null,
      "outputs": []
    },
    {
      "cell_type": "code",
      "source": [
        "from numpy.ma.core import correlate\n",
        "#STHs\n",
        "sth = bem[['Trichuris eggcount','Hookworm eggcount','Ascaris eggcount','PCV2']]\n",
        "# sth = mms.fit_transform(sth).reshape(1,-2)\n",
        "# pcv = mms.fit_transform(bem.iloc[:,34].values.reshape(1,-2))\n",
        "#sth against pcv\n",
        "# plt.scatter(sth, pcv)\n",
        "# both = [[sth,pcv]]\n",
        "# sth\n",
        "# subjecting sth and to linear regression model\n",
        "x = features = sth.iloc[:,0-2].values.reshape(-1,1) #These are the STHs from line 3 above\n",
        "y = target = sth.iloc[:,3].values.reshape(-1,1) # this is the packed cell volume 2\n",
        "\n",
        "from sklearn.model_selection import train_test_split\n",
        "from sklearn.preprocessing import StandardScaler\n",
        "sc = StandardScaler()\n",
        "\n",
        "xsc = sc.fit_transform(x)\n",
        "ysc = sc.fit_transform(y)\n",
        "\n",
        "x_train, x_test, y_train,y_test = train_test_split(xsc,y, test_size=0.2, random_state=1)\n",
        "from sklearn.linear_model import LinearRegression\n",
        "lr = LinearRegression()\n",
        "model = lr.fit(x_train, y_train)\n",
        "y_pred = lr.predict(x_test)\n",
        "\n",
        "\n",
        "sns.regplot(x_train,y_train, marker='*', color='green')\n",
        "sns.regplot(x_test,y_test,color = 'red')\n",
        "print('regression coeficient : \\n', lr.coef_)\n",
        "print('mean sqared error: %2f' %mean_squared_error(y_test,y_pred))\n",
        "print('Model Score:', model.score(x_test,y_test))"
      ],
      "metadata": {
        "id": "RFORu1KlWzfb"
      },
      "execution_count": null,
      "outputs": []
    },
    {
      "cell_type": "code",
      "source": [
        "import statsmodels.formula.api as sm\n",
        "model1 = sm.ols(formula = 'y ~ x', data=bem).fit()\n",
        "print(model1.summary())"
      ],
      "metadata": {
        "id": "5GTvVrPPffcA"
      },
      "execution_count": null,
      "outputs": []
    },
    {
      "cell_type": "code",
      "source": [
        "# separate the conditions: toilet conditions, health conditions and wateravailability of ouake from Bembereke\n",
        "#use support vector machine and ensemble models for the final prediction.\n",
        "# use new_bmi \n"
      ],
      "metadata": {
        "id": "ERllv-QI1E-Q"
      },
      "execution_count": null,
      "outputs": []
    },
    {
      "cell_type": "code",
      "source": [],
      "metadata": {
        "id": "MEvYdgsPUWrl"
      },
      "execution_count": null,
      "outputs": []
    },
    {
      "cell_type": "markdown",
      "source": [
        "# ***Linear Regression Model: Biometrics and Anemia status among ***"
      ],
      "metadata": {
        "id": "42uGVvTau_sJ"
      }
    },
    {
      "cell_type": "markdown",
      "source": [
        "## **Preschool-Age Children Bembereke and Ouake**"
      ],
      "metadata": {
        "id": "q-slw_wmzo5r"
      }
    },
    {
      "cell_type": "markdown",
      "source": [],
      "metadata": {
        "id": "cL55VzfRCiBH"
      }
    },
    {
      "cell_type": "code",
      "source": [
        "# psac_df"
      ],
      "metadata": {
        "id": "7csoBk1_Bmz6"
      },
      "execution_count": null,
      "outputs": []
    },
    {
      "cell_type": "code",
      "source": [
        "# psac_sthand_pcv = psac_df.iloc[:,[30,31,32,33]].values #This is an array of sth and pcv results\n",
        "# psp = psac_sthand_pcv\n",
        "# psp"
      ],
      "metadata": {
        "id": "0QKnIfmsQME2"
      },
      "execution_count": null,
      "outputs": []
    },
    {
      "cell_type": "code",
      "source": [
        "psac_df = bem[bem.Age_Group != 'sac'] # This sorts our all data that has to do with PSAC\n",
        "psac_agrp = psac_df.iloc[:,4].values # this contains only the 5th column which is the Age_Group variable.\n",
        "# plt.hist(psac_agrp)\n",
        "\n",
        "psth_only = psac_df.iloc[:,[30,31,32]].values #Soil Transmitted helminthes Only Ascaris Hookworm and Trichuris\n",
        "psth_X = psth_only[:, np.newaxis,2] #values have been sliced.\n",
        "\n",
        "psac_biometrics = psac_df[['height(cm)','MUAC(cm)','weight(kg)']].values  #PSAC Biometrics 'target'.\n",
        "pb = psac_biometrics #PSAC Biometrics\n",
        "pb_Y = pb[:, np.newaxis,2]\n",
        "# psac_sthand_pcv = psac_df.iloc[:,[30,31,32,33]].values #This is an array of sth and pcv results\n",
        "# psp = psac_sthand_pcv.reshape(-1,2)\n",
        "# psth_df.size\n",
        "# pb.size\n",
        "#subjecting psac biometrics and infection status to statsmodels\n",
        "# psac_df.iloc[:,21].values #for ascaris eggcount\n",
        "model_psac = sm.ols(formula='pb_Y ~ psth_X', data=psac_df).fit()\n",
        "model_psac.summary()\n"
      ],
      "metadata": {
        "id": "UdnhbMm9u-8r"
      },
      "execution_count": null,
      "outputs": []
    },
    {
      "cell_type": "code",
      "source": [
        "# Linear Regression Plot: PSAC Biometrics and STH\n",
        "x = psth_only.reshape(278,1)\n",
        "y = pb\n",
        "\n",
        "# psac_x_train = x[:-20]\n",
        "# psac_x_test = x[-20:]\n",
        "# y_train = y[:-20]\n",
        "# y_test = y[-20:]\n",
        "# model3 = lr.fit(x_train,y_train)\n",
        "\n",
        "x_train,x_test, y_train,y_test = train_test_split(x, y, test_size=0.2, random_state=1)\n",
        "\n",
        "model3 = lr.fit(x_train,y_train)\n",
        "y_pred = lr.predict(x_test)\n",
        "# print('Model Accuracy %f' %2f(y_test,y_pred))\n",
        "# plt.scatter(x_train,y_train, color='red')\n",
        "# sns.regplot(x_train, y_train, color='green')\n",
        "Training = plt.scatter(x_train,y_train, color='blue')\n",
        "regplot = plt.plot(x_train, lr.predict(x_train), color='green')\n",
        "\n",
        "\n",
        "plt.title('Fig:Multiple Linear Regression Plot: Biometrics VS STH')\n",
        "plt.xlabel('Soil Transmitted Helminthiasis')\n",
        "plt.ylabel('Biometrics (Height,Weight,MUAC,Waist Circumference)')\n",
        "plt.legend(['regplot','Training'])\n",
        "print('mean sqared error: %2f' %mean_squared_error(y_test,y_pred))\n",
        "print('regression coeficient : \\n', lr.coef_)\n",
        "model3.score(x_test,y_test)"
      ],
      "metadata": {
        "id": "cWzHrT4yHDM1"
      },
      "execution_count": null,
      "outputs": []
    },
    {
      "cell_type": "code",
      "source": [
        "Test = plt.scatter(x_test,y_test, color=\"red\")\n",
        "plt.plot(x_train, lr.predict(x_train), color='green')\n",
        "plt.legend(['regplot','Testing'])\n",
        "print('The model accuracy score is:', model3.score(x_test,y_test)*100,'%')"
      ],
      "metadata": {
        "id": "lxWYJx5m_DLS"
      },
      "execution_count": null,
      "outputs": []
    },
    {
      "cell_type": "code",
      "source": [
        "from sklearn.linear_model import LogisticRegression \n",
        "logreg = LogisticRegression()\n",
        "# what are the determining factors behind having or not having toilet\n",
        "\n",
        "x = toilet = bem.iloc[:,12].values\n",
        "x = le.fit_transform(x).reshape(-1,1) # participants ot do not have toilet\n",
        "\n",
        "y = bem.iloc[:,21-23].values.reshape(-1,1) #sths i.e ascaris, trichuris, hookworm\n",
        "\n",
        "x_train, x_test, y_train,y_test = train_test_split(x,y, test_size=0.2 , random_state=95)\n",
        "model5 = logreg.fit(x_train,y_train)\n",
        "y_pred = model.predict(x_test) #prediction of average sth infection intensity among psac and sac in ouake and bembereke\n",
        "print('The Model prediction score is:', model5.score(x_test,y_test)*100)\n",
        "print('The mean squared error is:', mean_squared_error(y_test,y_pred))\n",
        "\n",
        "plt.scatter(x_train,y_train, marker='+', color='green')\n",
        "#prediction probability\n",
        "probability_prediction  = model5.predict_proba(x_test) # shows the probaility of each participant getting infected with either of the sth\n",
        "model5.predict_log_proba(x_test) #logarithmica probability of being infected with either of the sth\n",
        "mean_probability = probability_prediction.mean() #mean probability of having either of the sth\n",
        "print('Mean probability of having either of STH is:', (mean_probability)*100,'%')\n",
        "\n",
        "from sklearn.metrics import accuracy_score,r2_score\n",
        "print('Accuracy score is', r2_score(y_test,y_pred)) #R-Squared score i.e. regression score.\n",
        "plt.xlabel('Have Toilet or Not') #features label\n",
        "plt.ylabel('Either of STH') #Target label\n",
        "plt.title('Logistic Regression Plot: Having Toilet Against STH Infection')\n",
        "stats_model5 = sm.ols(formula='y ~ x', data=bem).fit()\n",
        "stats_model5.summary()\n",
        "# from the available evidences, it can be concluded that having or not having toilet does not significantly determine been infected with STH."
      ],
      "metadata": {
        "id": "Q_-7p8sACX4T"
      },
      "execution_count": null,
      "outputs": []
    },
    {
      "cell_type": "code",
      "source": [
        "#Logistic regression for classification of parent occupation, sex, toilet\n",
        "#  In linreg, y = mx + b while in logistic regression, y = 1/1 + e^-(mx + b)\n",
        "# STH infection and sex\n",
        "new_x = bem.iloc[:,[21,22,23]].values.reshape(-3,3) #21 - ascaris, #22-Trichuris, #23- \n",
        "new_y = bem.iloc[:,5].values.reshape(-1,1)\n",
        "\n",
        "\n",
        "#Does Age and BMI have anything to do with STH\n",
        "\n",
        "new_x.size\n",
        "# plt.scatter(new_x,new_y)"
      ],
      "metadata": {
        "id": "MD4j1GPYBs5t"
      },
      "execution_count": null,
      "outputs": []
    }
  ]
}